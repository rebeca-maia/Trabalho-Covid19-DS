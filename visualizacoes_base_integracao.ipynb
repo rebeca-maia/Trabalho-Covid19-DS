{
  "nbformat": 4,
  "nbformat_minor": 0,
  "metadata": {
    "colab": {
      "name": "visualizations.ipynb",
      "provenance": [],
      "collapsed_sections": [
        "xbeXZurvcFmQ",
        "eb-DKdz9h8vz"
      ],
      "toc_visible": true
    },
    "kernelspec": {
      "name": "python3",
      "display_name": "Python 3"
    }
  },
  "cells": [
    {
      "cell_type": "code",
      "metadata": {
        "id": "jXZM1mqBGtnQ"
      },
      "source": [
        "import numpy as np\n",
        "import pandas as pd\n",
        "import matplotlib.pyplot as plt\n",
        "from matplotlib.dates import date2num\n",
        "\n",
        "plt.style.use('seaborn-pastel')"
      ],
      "execution_count": null,
      "outputs": []
    },
    {
      "cell_type": "code",
      "metadata": {
        "id": "tlVsYabPG5Sx"
      },
      "source": [
        "cols = ['dt_nasc_g', 'logradouro_g', 'bairro_g', 'municipio_residencia_g',\n",
        "       'houve_internacao_s', 'dt_recebimento_g', 'dt_liberacao_g',\n",
        "       'resultado_g', 'suporte_ventilatorio_s', 'classif_gestante_s',\n",
        "       'sint_febre_s', 'sint_tosse_s', 'sint_dor_garganta_s',\n",
        "       'sint_dispneia_s', 'sint_desconforto_respiratorio_s',\n",
        "       'sint_saturacao_s', 'sint_diarreia_s', 'sint_vomito_s', 'sint_outros_s',\n",
        "       'comorb_diabetes_s', 'comorb_cardiopatia_s', 'profissional_de_saude_e',\n",
        "       'sexo_e', 'estado_e', 'evolucao_caso_e', 'uti_o', 'dt_obito_o',\n",
        "       'hospitalizacao_o', 'contatos_suspeitos_o', 'contatos_confirmados_o', 'tipo_teste_e']"
      ],
      "execution_count": null,
      "outputs": []
    },
    {
      "cell_type": "code",
      "metadata": {
        "id": "Mvx_RyoVHHI3"
      },
      "source": [
        "df = pd.read_csv( 'datasets/cleaned_base_integracao.csv', usecols=cols)\n",
        "df[cols]\n",
        "\n",
        "df.drop( df[ df['resultado_g'] == 'Inconclusivo' ].index, inplace=True )\n",
        "df.drop( df[ df['resultado_g'] == 'Aguardando Resultado' ].index, inplace=True )"
      ],
      "execution_count": null,
      "outputs": []
    },
    {
      "cell_type": "code",
      "metadata": {
        "id": "weFm3NVQhrZD",
        "outputId": "09d54a8b-02ed-423e-8065-d5098e831251",
        "colab": {
          "base_uri": "https://localhost:8080/",
          "height": 292
        }
      },
      "source": [
        "df.head()"
      ],
      "execution_count": null,
      "outputs": [
        {
          "output_type": "execute_result",
          "data": {
            "text/html": [
              "<div>\n",
              "<style scoped>\n",
              "    .dataframe tbody tr th:only-of-type {\n",
              "        vertical-align: middle;\n",
              "    }\n",
              "\n",
              "    .dataframe tbody tr th {\n",
              "        vertical-align: top;\n",
              "    }\n",
              "\n",
              "    .dataframe thead th {\n",
              "        text-align: right;\n",
              "    }\n",
              "</style>\n",
              "<table border=\"1\" class=\"dataframe\">\n",
              "  <thead>\n",
              "    <tr style=\"text-align: right;\">\n",
              "      <th></th>\n",
              "      <th>dt_nasc_g</th>\n",
              "      <th>logradouro_g</th>\n",
              "      <th>bairro_g</th>\n",
              "      <th>municipio_residencia_g</th>\n",
              "      <th>houve_internacao_s</th>\n",
              "      <th>dt_recebimento_g</th>\n",
              "      <th>dt_liberacao_g</th>\n",
              "      <th>resultado_g</th>\n",
              "      <th>suporte_ventilatorio_s</th>\n",
              "      <th>classif_gestante_s</th>\n",
              "      <th>sint_febre_s</th>\n",
              "      <th>sint_tosse_s</th>\n",
              "      <th>sint_dor_garganta_s</th>\n",
              "      <th>sint_dispneia_s</th>\n",
              "      <th>sint_desconforto_respiratorio_s</th>\n",
              "      <th>sint_saturacao_s</th>\n",
              "      <th>sint_diarreia_s</th>\n",
              "      <th>sint_vomito_s</th>\n",
              "      <th>sint_outros_s</th>\n",
              "      <th>comorb_diabetes_s</th>\n",
              "      <th>comorb_cardiopatia_s</th>\n",
              "      <th>profissional_de_saude_e</th>\n",
              "      <th>sexo_e</th>\n",
              "      <th>estado_e</th>\n",
              "      <th>tipo_teste_e</th>\n",
              "      <th>evolucao_caso_e</th>\n",
              "      <th>uti_o</th>\n",
              "      <th>dt_obito_o</th>\n",
              "      <th>hospitalizacao_o</th>\n",
              "      <th>contatos_suspeitos_o</th>\n",
              "      <th>contatos_confirmados_o</th>\n",
              "    </tr>\n",
              "  </thead>\n",
              "  <tbody>\n",
              "    <tr>\n",
              "      <th>0</th>\n",
              "      <td>1984-03-14</td>\n",
              "      <td>RUI BARBOSA</td>\n",
              "      <td>NaN</td>\n",
              "      <td>FORTALEZA</td>\n",
              "      <td>NaN</td>\n",
              "      <td>2020-02-26</td>\n",
              "      <td>2020-05-30 12:12:28</td>\n",
              "      <td>Não Detectável</td>\n",
              "      <td>NaN</td>\n",
              "      <td>NaN</td>\n",
              "      <td>NaN</td>\n",
              "      <td>NaN</td>\n",
              "      <td>NaN</td>\n",
              "      <td>NaN</td>\n",
              "      <td>NaN</td>\n",
              "      <td>NaN</td>\n",
              "      <td>NaN</td>\n",
              "      <td>NaN</td>\n",
              "      <td>NaN</td>\n",
              "      <td>NaN</td>\n",
              "      <td>NaN</td>\n",
              "      <td>NaN</td>\n",
              "      <td>NaN</td>\n",
              "      <td>NaN</td>\n",
              "      <td>NaN</td>\n",
              "      <td>NaN</td>\n",
              "      <td>NaN</td>\n",
              "      <td>NaN</td>\n",
              "      <td>NaN</td>\n",
              "      <td>NaN</td>\n",
              "      <td>NaN</td>\n",
              "    </tr>\n",
              "    <tr>\n",
              "      <th>1</th>\n",
              "      <td>1997-02-06</td>\n",
              "      <td>NaN</td>\n",
              "      <td>NaN</td>\n",
              "      <td>FORTALEZA</td>\n",
              "      <td>NaN</td>\n",
              "      <td>2020-02-28</td>\n",
              "      <td>2020-08-03 17:38:50</td>\n",
              "      <td>Detectável</td>\n",
              "      <td>NaN</td>\n",
              "      <td>NaN</td>\n",
              "      <td>NaN</td>\n",
              "      <td>NaN</td>\n",
              "      <td>NaN</td>\n",
              "      <td>NaN</td>\n",
              "      <td>NaN</td>\n",
              "      <td>NaN</td>\n",
              "      <td>NaN</td>\n",
              "      <td>NaN</td>\n",
              "      <td>NaN</td>\n",
              "      <td>NaN</td>\n",
              "      <td>NaN</td>\n",
              "      <td>NaN</td>\n",
              "      <td>Masculino</td>\n",
              "      <td>CEARÁ</td>\n",
              "      <td>NaN</td>\n",
              "      <td>NaN</td>\n",
              "      <td>NaN</td>\n",
              "      <td>NaN</td>\n",
              "      <td>NaN</td>\n",
              "      <td>NaN</td>\n",
              "      <td>NaN</td>\n",
              "    </tr>\n",
              "    <tr>\n",
              "      <th>2</th>\n",
              "      <td>1986-08-14</td>\n",
              "      <td>RUA PADRE VALDEVINO</td>\n",
              "      <td>ALDEOTA</td>\n",
              "      <td>FORTALEZA</td>\n",
              "      <td>NaN</td>\n",
              "      <td>2020-03-02</td>\n",
              "      <td>2020-05-30 13:12:51</td>\n",
              "      <td>Não Detectável</td>\n",
              "      <td>NaN</td>\n",
              "      <td>NaN</td>\n",
              "      <td>NaN</td>\n",
              "      <td>NaN</td>\n",
              "      <td>NaN</td>\n",
              "      <td>NaN</td>\n",
              "      <td>NaN</td>\n",
              "      <td>NaN</td>\n",
              "      <td>NaN</td>\n",
              "      <td>NaN</td>\n",
              "      <td>NaN</td>\n",
              "      <td>NaN</td>\n",
              "      <td>NaN</td>\n",
              "      <td>NaN</td>\n",
              "      <td>Masculino</td>\n",
              "      <td>CEARÁ</td>\n",
              "      <td>NaN</td>\n",
              "      <td>NaN</td>\n",
              "      <td>NaN</td>\n",
              "      <td>NaN</td>\n",
              "      <td>NaN</td>\n",
              "      <td>NaN</td>\n",
              "      <td>NaN</td>\n",
              "    </tr>\n",
              "    <tr>\n",
              "      <th>3</th>\n",
              "      <td>1988-12-23</td>\n",
              "      <td>RUA PADRE VALDEVINO</td>\n",
              "      <td>ALDEOTA</td>\n",
              "      <td>FORTALEZA</td>\n",
              "      <td>NaN</td>\n",
              "      <td>2020-03-02</td>\n",
              "      <td>2020-05-30 13:12:50</td>\n",
              "      <td>Não Detectável</td>\n",
              "      <td>NaN</td>\n",
              "      <td>NaN</td>\n",
              "      <td>NaN</td>\n",
              "      <td>NaN</td>\n",
              "      <td>NaN</td>\n",
              "      <td>NaN</td>\n",
              "      <td>NaN</td>\n",
              "      <td>NaN</td>\n",
              "      <td>NaN</td>\n",
              "      <td>NaN</td>\n",
              "      <td>NaN</td>\n",
              "      <td>NaN</td>\n",
              "      <td>NaN</td>\n",
              "      <td>NaN</td>\n",
              "      <td>Feminino</td>\n",
              "      <td>CEARÁ</td>\n",
              "      <td>NaN</td>\n",
              "      <td>NaN</td>\n",
              "      <td>NaN</td>\n",
              "      <td>NaN</td>\n",
              "      <td>NaN</td>\n",
              "      <td>NaN</td>\n",
              "      <td>NaN</td>\n",
              "    </tr>\n",
              "    <tr>\n",
              "      <th>4</th>\n",
              "      <td>1977-05-04</td>\n",
              "      <td>RUA: 8</td>\n",
              "      <td>PASSARE</td>\n",
              "      <td>FORTALEZA</td>\n",
              "      <td>NaN</td>\n",
              "      <td>2020-03-05</td>\n",
              "      <td>2020-06-10 17:09:41</td>\n",
              "      <td>Não Detectável</td>\n",
              "      <td>NaN</td>\n",
              "      <td>NaN</td>\n",
              "      <td>NaN</td>\n",
              "      <td>NaN</td>\n",
              "      <td>NaN</td>\n",
              "      <td>NaN</td>\n",
              "      <td>NaN</td>\n",
              "      <td>NaN</td>\n",
              "      <td>NaN</td>\n",
              "      <td>NaN</td>\n",
              "      <td>NaN</td>\n",
              "      <td>NaN</td>\n",
              "      <td>NaN</td>\n",
              "      <td>NaN</td>\n",
              "      <td>Feminino</td>\n",
              "      <td>CEARÁ</td>\n",
              "      <td>NaN</td>\n",
              "      <td>NaN</td>\n",
              "      <td>NaN</td>\n",
              "      <td>NaN</td>\n",
              "      <td>NaN</td>\n",
              "      <td>NaN</td>\n",
              "      <td>NaN</td>\n",
              "    </tr>\n",
              "  </tbody>\n",
              "</table>\n",
              "</div>"
            ],
            "text/plain": [
              "    dt_nasc_g         logradouro_g  ... contatos_suspeitos_o contatos_confirmados_o\n",
              "0  1984-03-14          RUI BARBOSA  ...                  NaN                    NaN\n",
              "1  1997-02-06                  NaN  ...                  NaN                    NaN\n",
              "2  1986-08-14  RUA PADRE VALDEVINO  ...                  NaN                    NaN\n",
              "3  1988-12-23  RUA PADRE VALDEVINO  ...                  NaN                    NaN\n",
              "4  1977-05-04               RUA: 8  ...                  NaN                    NaN\n",
              "\n",
              "[5 rows x 31 columns]"
            ]
          },
          "metadata": {
            "tags": []
          },
          "execution_count": 126
        }
      ]
    },
    {
      "cell_type": "code",
      "metadata": {
        "id": "oSOmREf_HQe6",
        "outputId": "8f498e87-6c8d-4273-c404-687bfcbe3719",
        "colab": {
          "base_uri": "https://localhost:8080/",
          "height": 33
        }
      },
      "source": [
        "df.shape"
      ],
      "execution_count": null,
      "outputs": [
        {
          "output_type": "execute_result",
          "data": {
            "text/plain": [
              "(158566, 30)"
            ]
          },
          "metadata": {
            "tags": []
          },
          "execution_count": 19
        }
      ]
    },
    {
      "cell_type": "markdown",
      "metadata": {
        "id": "BdxU8nh_b93C"
      },
      "source": [
        "# Recebimento e Liberação de pacientes"
      ]
    },
    {
      "cell_type": "code",
      "metadata": {
        "id": "8JmQhX6FX64N"
      },
      "source": [
        "recebimento = df['dt_recebimento_g'].astype('datetime64')\n",
        "liberado = df['dt_liberacao_g'].astype('datetime64')"
      ],
      "execution_count": null,
      "outputs": []
    },
    {
      "cell_type": "code",
      "metadata": {
        "id": "Ymxz8dBbHbBo",
        "outputId": "dca17ea1-85f7-4017-8851-a72f7ea6c2ca",
        "colab": {
          "base_uri": "https://localhost:8080/",
          "height": 382
        }
      },
      "source": [
        "import random\n",
        "\n",
        "fig = plt.figure()\n",
        "ax = fig.add_subplot(111)\n",
        "\n",
        "entrada = date2num( recebimento.sort_values() )\n",
        "y = [i+random.gauss(0,1) for i,_ in enumerate(entrada)]\n",
        "p1 = ax.plot_date( entrada, y )\n",
        "\n",
        "saida = date2num( liberado.sort_values() )\n",
        "y = [i+random.gauss(0,1) for i,_ in enumerate(saida)]\n",
        "p2 = ax.plot_date( saida, y )\n",
        "\n",
        "plt.legend( (p1[0], p2[0]), ('Entradas', 'Liberações') )\n",
        "\n",
        "plt.title('Quantidade de Recebimentos X Liberações', size=20)\n",
        "\n",
        "plt.rcParams['figure.figsize'] = 12, 10\n",
        "plt.grid(zorder=0, linestyle='-.')\n",
        "plt.gcf().autofmt_xdate()\n",
        "\n",
        "plt.savefig('recebimento_liberacoes.png')"
      ],
      "execution_count": null,
      "outputs": [
        {
          "output_type": "display_data",
          "data": {
            "image/png": "[encoded data removed]",
            "text/plain": [
              "<Figure size 720x432 with 1 Axes>"
            ]
          },
          "metadata": {
            "tags": [],
            "needs_background": "light"
          }
        }
      ]
    },
    {
      "cell_type": "markdown",
      "metadata": {
        "id": "xbeXZurvcFmQ"
      },
      "source": [
        "# Sexo dos pacientes"
      ]
    },
    {
      "cell_type": "code",
      "metadata": {
        "id": "OXlJ67UhcOLe",
        "outputId": "1546b7c1-835b-4e07-f5aa-cd1a45b93427",
        "colab": {
          "base_uri": "https://localhost:8080/",
          "height": 82
        }
      },
      "source": [
        "f = len( df[ (df['resultado_g'] == 'Detectável') & (df['sexo_e'] == 'Feminino') ] )\n",
        "m = len( df[ (df['resultado_g'] == 'Detectável') & (df['sexo_e'] == 'Masculino') ] )\n",
        "\n",
        "_f = len( df[ (df['resultado_g'] == 'Não Detectável') & (df['sexo_e'] == 'Feminino') ] )\n",
        "_m = len( df[ (df['resultado_g'] == 'Não Detectável') & (df['sexo_e'] == 'Masculino') ] )\n",
        "\n",
        "print( f'Casos em homes: {m} \\nCasos em Mulheres {f}')\n",
        "print( f'Casos não detectados em homes: {_m} \\nCasos não detectados em Mulheres {_f}')"
      ],
      "execution_count": null,
      "outputs": [
        {
          "output_type": "stream",
          "text": [
            "Casos em homes: 17701 \n",
            "Casos em Mulheres 20133\n",
            "Casos não detectados em homes: 28461 \n",
            "Casos não detectados em Mulheres 37927\n"
          ],
          "name": "stdout"
        }
      ]
    },
    {
      "cell_type": "code",
      "metadata": {
        "id": "cWQWWt7hcOjY",
        "outputId": "a7c864a5-24c9-4943-82ef-1ee7e8f1f7b7",
        "colab": {
          "base_uri": "https://localhost:8080/",
          "height": 400
        }
      },
      "source": [
        "ind = np.arange(2)\n",
        "width = 0.35\n",
        "\n",
        "detectados = (m, f)\n",
        "n_detectados = (_m, _f)\n",
        "\n",
        "p1  = plt.bar( ind, detectados, width, zorder=3 )\n",
        "p2  = plt.bar( ind, n_detectados, width, bottom=detectados, zorder=3 )\n",
        "\n",
        "plt.rcParams['figure.figsize'] = 5, 6\n",
        "plt.grid(zorder=0, linestyle='-.')\n",
        "\n",
        "plt.title('Resultado do Exame por gênero', size=20)\n",
        "plt.xticks( ind, ('Masculino', 'Feminio'), size=14 )\n",
        "plt.legend((p1[0], p2[0]), ('Detectável', 'Não Detectável'))\n",
        "\n",
        "plt.savefig('resultado_por_genero.png')"
      ],
      "execution_count": null,
      "outputs": [
        {
          "output_type": "display_data",
          "data": {
            "image/png": "[encoded data removed]",
            "text/plain": [
              "<Figure size 360x432 with 1 Axes>"
            ]
          },
          "metadata": {
            "tags": [],
            "needs_background": "light"
          }
        }
      ]
    },
    {
      "cell_type": "markdown",
      "metadata": {
        "id": "eb-DKdz9h8vz"
      },
      "source": [
        "# Resultados do exame"
      ]
    },
    {
      "cell_type": "code",
      "metadata": {
        "id": "qVULUKwBiA9d",
        "outputId": "185ae65d-2040-4cfb-9d40-f818f5323f21",
        "colab": {
          "base_uri": "https://localhost:8080/",
          "height": 33
        }
      },
      "source": [
        "detectados = len( df[ df['resultado_g'] == 'Detectável' ] )\n",
        "n_detectados = len( df[ df['resultado_g'] == 'Não Detectável' ] )\n",
        "\n",
        "print( detectados, n_detectados)"
      ],
      "execution_count": null,
      "outputs": [
        {
          "output_type": "stream",
          "text": [
            "47727 110839\n"
          ],
          "name": "stdout"
        }
      ]
    },
    {
      "cell_type": "code",
      "metadata": {
        "id": "JTDAOm0YcOXL",
        "outputId": "2494be88-2de5-4f44-f11f-25e5351eeb9e",
        "colab": {
          "base_uri": "https://localhost:8080/",
          "height": 398
        }
      },
      "source": [
        "ind = np.arange(2)\n",
        "width = 0.35\n",
        "\n",
        "bars = (detectados, n_detectados)\n",
        "\n",
        "plt.bar( ind, bars, width, zorder=3 )\n",
        "\n",
        "plt.rcParams['figure.figsize'] = 5, 6\n",
        "plt.grid( zorder=0, linestyle='-.')\n",
        "\n",
        "plt.title('Resultado do Exame', size=20)\n",
        "plt.xticks( ind, ('Detectável', 'Não Detectável'), size=14 )\n",
        "# plt.legend((p1[0], p2[0]), ('Detectável', 'Não Detectável'))\n",
        "\n",
        "plt.savefig('resultados.png')"
      ],
      "execution_count": null,
      "outputs": [
        {
          "output_type": "display_data",
          "data": {
            "image/png": "[encoded data removed]",
            "text/plain": [
              "<Figure size 360x432 with 1 Axes>"
            ]
          },
          "metadata": {
            "tags": [],
            "needs_background": "light"
          }
        }
      ]
    },
    {
      "cell_type": "markdown",
      "metadata": {
        "id": "BGvbL8M5mvg-"
      },
      "source": [
        "# Tipo de teste"
      ]
    },
    {
      "cell_type": "code",
      "metadata": {
        "id": "U-B9P2pvng24",
        "outputId": "654cb9b3-4c7e-4f1e-ffc9-988871afdd82",
        "colab": {
          "base_uri": "https://localhost:8080/",
          "height": 147
        }
      },
      "source": [
        "labels = df.groupby('tipo_teste_e').groups.keys()\n",
        "values = []\n",
        "\n",
        "for x in labels:\n",
        "  cont = len( df[ df['tipo_teste_e'] == x ] )\n",
        "  values.append( cont )\n",
        "  print( f'{x}: {cont}' )\n",
        "\n",
        "values = tuple(values)\n",
        "labels = ['ELISA IgM', 'ELISA', 'ECLIA Ig6', 'ECLIA', 'CLIA', 'RT-PCR', 'TR-ANTICORPO', 'TR-ANTÍGENO']"
      ],
      "execution_count": null,
      "outputs": [
        {
          "output_type": "stream",
          "text": [
            "Enzimaimunoensaio - ELISA IgM: 15\n",
            "Enzimaimunoensaio – ELISA: 6\n",
            "Imunoensaio por Eletroquimioluminescência - ECLIA IgG: 28\n",
            "Imunoensaio por Eletroquimioluminescência – ECLIA: 13\n",
            "Quimioluminescência - CLIA: 25\n",
            "RT-PCR: 60289\n",
            "TESTE RÁPIDO - ANTICORPO: 14090\n",
            "TESTE RÁPIDO - ANTÍGENO: 269\n"
          ],
          "name": "stdout"
        }
      ]
    },
    {
      "cell_type": "code",
      "metadata": {
        "id": "WUo78-MfmxC5",
        "outputId": "dd3d2ce1-8846-45c0-a561-4cbc4692be3d",
        "colab": {
          "base_uri": "https://localhost:8080/",
          "height": 398
        }
      },
      "source": [
        "ind = np.arange( len(labels) )\n",
        "width = .8\n",
        "\n",
        "plt.rcParams['figure.figsize'] = 10, 6\n",
        "plt.grid( zorder=0, linestyle='-.')\n",
        "\n",
        "plt.bar( ind, values, width, zorder=3 )\n",
        "plt.xticks( ind, labels )\n",
        "\n",
        "for i, v in enumerate(values):\n",
        "  plt.text( i-.25, v, str(v), color='black', fontweight='bold' )\n",
        "\n",
        "plt.title('Tipos de teste realizados', size=20)\n",
        "plt.gcf().autofmt_xdate()\n",
        "\n",
        "plt.savefig('tipos_de_teste.png')"
      ],
      "execution_count": null,
      "outputs": [
        {
          "output_type": "display_data",
          "data": {
            "image/png": "[encoded data removed]",
            "text/plain": [
              "<Figure size 720x432 with 1 Axes>"
            ]
          },
          "metadata": {
            "tags": [],
            "needs_background": "light"
          }
        }
      ]
    },
    {
      "cell_type": "markdown",
      "metadata": {
        "id": "p88eqAMw_hwB"
      },
      "source": [
        "# Idade dos pacientes"
      ]
    },
    {
      "cell_type": "code",
      "metadata": {
        "id": "g2iKgTXu_jRm"
      },
      "source": [
        "slice_df = df[ df['resultado_g'] == 'Detectável' ]\n",
        "\n",
        "now = pd.to_datetime('now')\n",
        "nascimento = slice_df['dt_nasc_g'].astype('datetime64')\n",
        "idades = (now.year - nascimento.dt.year) - ( (now.month - nascimento.dt.month) < 0)\n",
        "idades = idades.to_frame()"
      ],
      "execution_count": null,
      "outputs": []
    },
    {
      "cell_type": "code",
      "metadata": {
        "id": "EQi81e29AloS",
        "outputId": "639a9adc-06ee-4f55-ea50-76c0b58a1961",
        "colab": {
          "base_uri": "https://localhost:8080/",
          "height": 391
        }
      },
      "source": [
        "idades"
      ],
      "execution_count": null,
      "outputs": [
        {
          "output_type": "execute_result",
          "data": {
            "text/html": [
              "<div>\n",
              "<style scoped>\n",
              "    .dataframe tbody tr th:only-of-type {\n",
              "        vertical-align: middle;\n",
              "    }\n",
              "\n",
              "    .dataframe tbody tr th {\n",
              "        vertical-align: top;\n",
              "    }\n",
              "\n",
              "    .dataframe thead th {\n",
              "        text-align: right;\n",
              "    }\n",
              "</style>\n",
              "<table border=\"1\" class=\"dataframe\">\n",
              "  <thead>\n",
              "    <tr style=\"text-align: right;\">\n",
              "      <th></th>\n",
              "      <th>dt_nasc_g</th>\n",
              "    </tr>\n",
              "  </thead>\n",
              "  <tbody>\n",
              "    <tr>\n",
              "      <th>1</th>\n",
              "      <td>23</td>\n",
              "    </tr>\n",
              "    <tr>\n",
              "      <th>17</th>\n",
              "      <td>28</td>\n",
              "    </tr>\n",
              "    <tr>\n",
              "      <th>18</th>\n",
              "      <td>57</td>\n",
              "    </tr>\n",
              "    <tr>\n",
              "      <th>19</th>\n",
              "      <td>25</td>\n",
              "    </tr>\n",
              "    <tr>\n",
              "      <th>22</th>\n",
              "      <td>60</td>\n",
              "    </tr>\n",
              "    <tr>\n",
              "      <th>...</th>\n",
              "      <td>...</td>\n",
              "    </tr>\n",
              "    <tr>\n",
              "      <th>162432</th>\n",
              "      <td>80</td>\n",
              "    </tr>\n",
              "    <tr>\n",
              "      <th>162433</th>\n",
              "      <td>63</td>\n",
              "    </tr>\n",
              "    <tr>\n",
              "      <th>162434</th>\n",
              "      <td>63</td>\n",
              "    </tr>\n",
              "    <tr>\n",
              "      <th>162436</th>\n",
              "      <td>55</td>\n",
              "    </tr>\n",
              "    <tr>\n",
              "      <th>162466</th>\n",
              "      <td>61</td>\n",
              "    </tr>\n",
              "  </tbody>\n",
              "</table>\n",
              "<p>47727 rows × 1 columns</p>\n",
              "</div>"
            ],
            "text/plain": [
              "        dt_nasc_g\n",
              "1              23\n",
              "17             28\n",
              "18             57\n",
              "19             25\n",
              "22             60\n",
              "...           ...\n",
              "162432         80\n",
              "162433         63\n",
              "162434         63\n",
              "162436         55\n",
              "162466         61\n",
              "\n",
              "[47727 rows x 1 columns]"
            ]
          },
          "metadata": {
            "tags": []
          },
          "execution_count": 227
        }
      ]
    },
    {
      "cell_type": "code",
      "metadata": {
        "id": "wU9Z4IR9G3A3"
      },
      "source": [
        "def circle_plot(data, title='graph'):\n",
        "    total = sum(data.values())\n",
        "\n",
        "    colors = ['#ff9999','#66b3ff','#99ff99','#ffcc99']\n",
        "\n",
        "    fig1, ax1 = plt.subplots()\n",
        "\n",
        "    plt.pie(data.values(), labels=data.keys(), colors=colors, autopct='%1.1f%%', \n",
        "            startangle=90, pctdistance=0.85)\n",
        "\n",
        "    centre_circle = plt.Circle((0,0),0.70,fc='white')\n",
        "    fig = plt.gcf()\n",
        "    fig.gca().add_artist(centre_circle)\n",
        "\n",
        "    ax1.set_facecolor('white')\n",
        "    ax1.axis('equal') \n",
        "    plt.title(title, fontdict={'fontsize': 'xx-large'})\n",
        "    plt.tight_layout()\n",
        "    plt.savefig('idades.png')"
      ],
      "execution_count": null,
      "outputs": []
    },
    {
      "cell_type": "code",
      "metadata": {
        "id": "8S6m2IW7AodK",
        "outputId": "23067629-d1c5-43f6-b6c9-e2889ef7a2cb",
        "colab": {
          "base_uri": "https://localhost:8080/",
          "height": 441
        }
      },
      "source": [
        "data = {}\n",
        "data['Adulto'] = len( idades[ (idades['dt_nasc_g'] > 18) & (idades['dt_nasc_g'] < 60) ] ) \n",
        "data['Jovem'] =  len( idades[ idades['dt_nasc_g'] < 18 ] )\n",
        "data['Idoso'] = len( idades[ idades['dt_nasc_g'] > 60 ] )\n",
        "\n",
        "circle_plot(data, 'Porcentagem de infectados por categoria de idade')"
      ],
      "execution_count": null,
      "outputs": [
        {
          "output_type": "display_data",
          "data": {
            "image/png": "[encoded data removed]",
            "text/plain": [
              "<Figure size 720x432 with 1 Axes>"
            ]
          },
          "metadata": {
            "tags": []
          }
        }
      ]
    },
    {
      "cell_type": "code",
      "metadata": {
        "id": "2cdMxyOgF3XU"
      },
      "source": [
        ""
      ],
      "execution_count": null,
      "outputs": []
    }
  ]
}